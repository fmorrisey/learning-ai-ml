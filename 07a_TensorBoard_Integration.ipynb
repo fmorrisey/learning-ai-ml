{
 "cells": [
  {
   "cell_type": "markdown",
   "id": "6837efa2",
   "metadata": {},
   "source": [
    "# 07 — TensorBoard Integration (step‑by‑step)\n",
    "**Goal:** add TensorBoard to any of your current lessons with minimal changes.\n",
    "\n",
    "By the end you will:\n",
    "- Install and launch TensorBoard\n",
    "- Log scalars (loss/accuracy), learning rate, and model graph\n",
    "- Optionally log weight histograms and a few example images\n"
   ]
  },
  {
   "cell_type": "markdown",
   "id": "92a5ec37",
   "metadata": {},
   "source": [
    "## 0) Install & launch TensorBoard\n",
    "Run these in a terminal **inside your `torch` venv**:\n",
    "\n",
    "```bash\n",
    "pip install tensorboard\n",
    "tensorboard --logdir runs --port 6006 --bind_all\n",
    "```\n",
    "Then open `http://YOUR_SERVER_IP:6006` from your browser. (`--bind_all` lets you view it from another machine on your LAN.)\n"
   ]
  },
  {
   "cell_type": "markdown",
   "id": "61187f95",
   "metadata": {},
   "source": [
    "## 1) Minimal example you can copy into any script\n",
    "This is a tiny training loop on a synthetic dataset. Focus on the **SummaryWriter** bits — you can transplant them into your MNIST/CIFAR scripts almost verbatim.\n"
   ]
  },
  {
   "cell_type": "code",
   "execution_count": null,
   "id": "542c7f7f",
   "metadata": {},
   "outputs": [],
   "source": [
    "import time\n",
    "import torch, torch.nn as nn, torch.nn.functional as F\n",
    "from torch.utils.data import DataLoader, TensorDataset\n",
    "from torch.utils.tensorboard import SummaryWriter\n",
    "from torch.cuda.amp import autocast, GradScaler\n",
    "\n",
    "device = 'cuda' if torch.cuda.is_available() else 'cpu'\n",
    "print('Device:', device)\n",
    "\n",
    "# ----- Toy data (1000 samples, 32 features, 10 classes)\n",
    "X = torch.randn(1000, 32)\n",
    "y = torch.randint(0, 10, (1000,))\n",
    "train_ds = TensorDataset(X, y)\n",
    "train_loader = DataLoader(train_ds, batch_size=128, shuffle=True)\n",
    "\n",
    "# ----- Tiny model\n",
    "class TinyNet(nn.Module):\n",
    "    def __init__(self):\n",
    "        super().__init__()\n",
    "        self.net = nn.Sequential(\n",
    "            nn.Linear(32, 64), nn.ReLU(), nn.Linear(64, 10)\n",
    "        )\n",
    "    def forward(self, x):\n",
    "        return self.net(x)\n",
    "\n",
    "model = TinyNet().to(device)\n",
    "opt = torch.optim.AdamW(model.parameters(), lr=1e-3, weight_decay=1e-2)\n",
    "scaler = GradScaler(enabled=(device=='cuda'))\n",
    "\n",
    "# ----- 1) Create a SummaryWriter (one per run)\n",
    "run_name = f\"tinynet_{int(time.time())}\"\n",
    "writer = SummaryWriter(log_dir=f\"runs/{run_name}\")\n",
    "print('Logging to', f'runs/{run_name}')\n",
    "\n",
    "# (Optional) 2) Log the computation graph once\n",
    "dummy_input = torch.randn(1, 32).to(device)\n",
    "writer.add_graph(model, dummy_input)\n",
    "\n",
    "# Utility to compute accuracy\n",
    "def acc(logits, y):\n",
    "    return (logits.argmax(dim=1) == y).float().mean().item()\n",
    "\n",
    "global_step = 0\n",
    "EPOCHS = 5\n",
    "for epoch in range(1, EPOCHS+1):\n",
    "    model.train()\n",
    "    running_loss, running_acc, n = 0.0, 0.0, 0\n",
    "    for xb, yb in train_loader:\n",
    "        xb, yb = xb.to(device), yb.to(device)\n",
    "        with autocast(enabled=(device=='cuda')):\n",
    "            logits = model(xb)\n",
    "            loss = F.cross_entropy(logits, yb)\n",
    "        opt.zero_grad(set_to_none=True)\n",
    "        scaler.scale(loss).backward()\n",
    "        scaler.step(opt); scaler.update()\n",
    "\n",
    "        # ----- 3) Log scalar metrics per training step\n",
    "        step_acc = acc(logits, yb)\n",
    "        writer.add_scalar('train/loss', loss.item(), global_step)\n",
    "        writer.add_scalar('train/acc',  step_acc,    global_step)\n",
    "        # Log current learning rate from the first param group\n",
    "        writer.add_scalar('train/lr',   opt.param_groups[0]['lr'], global_step)\n",
    "\n",
    "        bs = xb.size(0)\n",
    "        running_loss += loss.item() * bs\n",
    "        running_acc  += step_acc * bs\n",
    "        n += bs\n",
    "        global_step += 1\n",
    "\n",
    "    # ----- 4) Log per-epoch histograms to inspect weights\n",
    "    for name, p in model.named_parameters():\n",
    "        writer.add_histogram(f'params/{name}', p.detach().cpu(), epoch)\n",
    "\n",
    "    print(f\"epoch {epoch}: loss {running_loss/n:.4f} acc {running_acc/n:.3f}\")\n",
    "\n",
    "writer.close()\n",
    "print('Done. Open TensorBoard to see your run.')\n"
   ]
  },
  {
   "cell_type": "markdown",
   "id": "2c37d081",
   "metadata": {},
   "source": [
    "## 2) Drop‑in snippets for your existing lessons\n",
    "Below are copy‑paste chunks to integrate into **MNIST**, **CIFAR**, and the **Training Loop Anatomy** notebook.\n"
   ]
  },
  {
   "cell_type": "markdown",
   "id": "8a5a3d75",
   "metadata": {},
   "source": [
    "### A) Imports\n",
    "```python\n",
    "from torch.utils.tensorboard import SummaryWriter\n",
    "```\n"
   ]
  },
  {
   "cell_type": "markdown",
   "id": "e8ca009d",
   "metadata": {},
   "source": [
    "### B) Create the writer\n",
    "Put this near your training setup (after model/optimizer are created):\n",
    "\n",
    "```python\n",
    "import time\n",
    "run_name = f\"mnist_cnn_{int(time.time())}\"\n",
    "writer = SummaryWriter(log_dir=f\"runs/{run_name}\")\n",
    "```\n",
    "Optional — log the model graph once:\n",
    "```python\n",
    "dummy = torch.randn(1, 1, 28, 28, device=device)  # MNIST example\n",
    "writer.add_graph(model, dummy)\n",
    "```\n"
   ]
  },
  {
   "cell_type": "markdown",
   "id": "3112ad0f",
   "metadata": {},
   "source": [
    "### C) Inside your **training loop** (per batch)\n",
    "Add these after computing `loss` and before/after the optimizer step:\n",
    "\n",
    "```python\n",
    "global_step = 0  # define once above your loop\n",
    "\n",
    "# ... inside the loop after you get `loss` and `logits`\n",
    "train_acc = (logits.argmax(1) == yb).float().mean().item()\n",
    "writer.add_scalar('train/loss', loss.item(), global_step)\n",
    "writer.add_scalar('train/acc',  train_acc,   global_step)\n",
    "writer.add_scalar('train/lr',   opt.param_groups[0]['lr'], global_step)\n",
    "global_step += 1\n",
    "```\n"
   ]
  },
  {
   "cell_type": "markdown",
   "id": "1bf06dd7",
   "metadata": {},
   "source": [
    "### D) After each **epoch**\n",
    "Log your validation metrics and (optionally) histograms of model weights:\n",
    "\n",
    "```python\n",
    "writer.add_scalar('val/loss', val_loss, epoch)\n",
    "writer.add_scalar('val/acc',  val_acc,  epoch)\n",
    "\n",
    "for name, p in model.named_parameters():\n",
    "    writer.add_histogram(f'params/{name}', p.detach().cpu(), epoch)\n",
    "```\n"
   ]
  },
  {
   "cell_type": "markdown",
   "id": "4e553a79",
   "metadata": {},
   "source": [
    "### E) Close the writer when done\n",
    "```python\n",
    "writer.close()\n",
    "```\n"
   ]
  },
  {
   "cell_type": "markdown",
   "id": "81930ca4",
   "metadata": {},
   "source": [
    "## 3) Viewing multiple runs & comparing\n",
    "Every time you change hyperparameters (batch size, optimizer, LR schedule), change `run_name` so TensorBoard groups the results. Point `--logdir` at `runs/` to compare them side‑by‑side.\n"
   ]
  },
  {
   "cell_type": "markdown",
   "id": "5bc42ba2",
   "metadata": {},
   "source": [
    "## 4) Optional extras\n",
    "- **Images:**\n",
    "```python\n",
    "from torchvision.utils import make_grid\n",
    "grid = make_grid(xb[:16].cpu(), nrow=8, normalize=True)\n",
    "writer.add_image('batch_examples', grid, global_step)\n",
    "```\n",
    "- **PR/ROC curves:** useful for binary/multi-label; see `add_pr_curve`.\n",
    "- **Embeddings:** `add_embedding` to visualize feature spaces.\n",
    "- **Profiler:** `torch.profiler` can export traces that TensorBoard reads (advanced).\n"
   ]
  }
 ],
 "metadata": {
  "kernelspec": {
   "display_name": "Python 3 (ipykernel)",
   "language": "python",
   "name": "python3"
  },
  "language_info": {
   "codemirror_mode": {
    "name": "ipython",
    "version": 3
   },
   "file_extension": ".py",
   "mimetype": "text/x-python",
   "name": "python",
   "nbconvert_exporter": "python",
   "pygments_lexer": "ipython3",
   "version": "3.12.3"
  }
 },
 "nbformat": 4,
 "nbformat_minor": 5
}
